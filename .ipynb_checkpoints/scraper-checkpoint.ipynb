{
 "cells": [
  {
   "cell_type": "code",
   "execution_count": 30,
   "metadata": {},
   "outputs": [],
   "source": [
    "import numpy as np\n",
    "import pandas as pd\n",
    "import os\n",
    "import requests\n",
    "import bs4\n",
    "import json\n",
    "import seaborn as sns\n",
    "import re\n",
    "from sklearn.feature_extraction.text import TfidfTransformer\n",
    "from sklearn.feature_extraction.text import CountVectorizer\n",
    "import project04 as proj"
   ]
  },
  {
   "cell_type": "code",
   "execution_count": 2,
   "metadata": {},
   "outputs": [],
   "source": [
    "url = 'https://genius.com{}'"
   ]
  },
  {
   "cell_type": "code",
   "execution_count": 3,
   "metadata": {},
   "outputs": [],
   "source": [
    "response = requests.get(url.format('/artists/Denzel-curry'))\n",
    "soup = bs4.BeautifulSoup(response.content)"
   ]
  },
  {
   "cell_type": "code",
   "execution_count": null,
   "metadata": {},
   "outputs": [],
   "source": []
  },
  {
   "cell_type": "code",
   "execution_count": 4,
   "metadata": {},
   "outputs": [
    {
     "name": "stdout",
     "output_type": "stream",
     "text": [
      "Melt My Eyez, See Your Future\n",
      "13LOOD 1N + 13LOOD OUT MIXX\n",
      "ZUU\n",
      "TA13OO\n",
      "TA13OO: Act 2 (Gray)\n",
      "TA13OO: Act 1 (Light)\n"
     ]
    }
   ],
   "source": [
    "for i in soup.find_all('a', attrs={'class': 'vertical_album_card'}):\n",
    "    print(i['title'])"
   ]
  },
  {
   "cell_type": "code",
   "execution_count": 5,
   "metadata": {},
   "outputs": [
    {
     "data": {
      "text/plain": [
       "'/artists/albums?for_artist_page=16690&id=Denzel-curry'"
      ]
     },
     "execution_count": 5,
     "metadata": {},
     "output_type": "execute_result"
    }
   ],
   "source": [
    "new_url = soup.find_all('a', attrs={'class': 'full_width_button'})[1]['href']\n",
    "new_url"
   ]
  },
  {
   "cell_type": "code",
   "execution_count": 6,
   "metadata": {},
   "outputs": [],
   "source": [
    "albums_request = requests.get(url.format(new_url))\n",
    "albums = bs4.BeautifulSoup(albums_request.content)"
   ]
  },
  {
   "cell_type": "code",
   "execution_count": 7,
   "metadata": {},
   "outputs": [
    {
     "data": {
      "text/plain": [
       "[<li><a class=\"album_link\" href=\"/albums/Denzel-curry/Ta13oo-act-1-light\">TA13OO: Act 1 (Light)</a></li>,\n",
       " <li><a class=\"album_link\" href=\"/albums/Denzel-curry/Imperial-streaming-version\">Imperial (Streaming Version)</a></li>,\n",
       " <li><a class=\"album_link\" href=\"/albums/Denzel-curry/Melt-my-eyez-see-your-future\">Melt My Eyez, See Your Future</a></li>,\n",
       " <li><a class=\"album_link\" href=\"/albums/Denzel-curry/Nostalgic-64\">Nostalgic 64</a></li>,\n",
       " <li><a class=\"album_link\" href=\"/albums/Denzel-curry/Zuu\">ZUU</a></li>,\n",
       " <li><a class=\"album_link\" href=\"/albums/Denzel-curry/Ta13oo\">TA13OO</a></li>,\n",
       " <li><a class=\"album_link\" href=\"/albums/Denzel-curry/Curry-wuz-here\">Curry Wuz Here</a></li>,\n",
       " <li><a class=\"album_link\" href=\"/albums/Denzel-curry/Imperial\">Imperial</a></li>,\n",
       " <li><a class=\"album_link\" href=\"/albums/Denzel-curry/King-remembered-underground-tape-19911995\">King Remembered (Underground Tape 1991–1995)</a></li>,\n",
       " <li><a class=\"album_link\" href=\"/albums/Denzel-curry/32-zel\">32 Zel</a></li>,\n",
       " <li><a class=\"album_link\" href=\"/albums/Denzel-curry/13lood-1n-13lood-out-mixx\">13LOOD 1N + 13LOOD OUT MIXX</a></li>,\n",
       " <li><a class=\"album_link\" href=\"/albums/Denzel-curry/Planet-shrooms\">Planet Shrooms</a></li>,\n",
       " <li><a class=\"album_link\" href=\"/albums/Denzel-curry/Strictly-4-my-r-v-i-d-x-r-z\">Strictly 4 my R.V.I.D.X.R.Z.</a></li>,\n",
       " <li><a class=\"album_link\" href=\"/albums/Denzel-curry/13\">13</a></li>,\n",
       " <li><a class=\"album_link\" href=\"/albums/Denzel-curry/Ta13oo-act-3-dark\">TA13OO: Act 3 (Dark)</a></li>,\n",
       " <li><a class=\"album_link\" href=\"/albums/Denzel-curry/Ta13oo-act-2-gray\">TA13OO: Act 2 (Gray)</a></li>,\n",
       " <li><a class=\"album_link\" href=\"/albums/Denzel-curry/Spotify-singles\">Spotify Singles</a></li>,\n",
       " <li><a class=\"album_link\" href=\"/albums/Denzel-curry/King-of-the-mischievous-south-vol-1-underground-tape-1996\">King of the Mischievous South, Vol. 1 (Underground Tape 1996)</a></li>,\n",
       " <li><a class=\"album_link\" href=\"/albums/Denzel-curry/Black-balloons-13lack-13alloonz-love-below-remixes\">BLACK BALLOONS | 13LACK 13ALLOONZ (Love Below Remixes)</a></li>,\n",
       " <li><a class=\"album_link\" href=\"/albums/Denzel-curry/Ultimate-sick-tired-badbadnotgood-sessions\">Ultimate / Sick &amp; Tired (BADBADNOTGOOD Sessions)</a></li>]"
      ]
     },
     "execution_count": 7,
     "metadata": {},
     "output_type": "execute_result"
    }
   ],
   "source": [
    "album_lst = albums.find('ul', attrs={'class': 'album_list primary_list'}).find_all('li')\n",
    "album_lst"
   ]
  },
  {
   "cell_type": "code",
   "execution_count": 8,
   "metadata": {},
   "outputs": [],
   "source": [
    "song_lst = []\n",
    "for i in album_lst:\n",
    "    link = i.find('a')['href']\n",
    "    new_url = url.format(link)\n",
    "    response = requests.get(new_url)\n",
    "    soup = bs4.BeautifulSoup(response.content)\n",
    "    tracklist = soup.find_all('div', attrs={'class': 'column_layout-column_span column_layout-column_span--primary'})[1]\n",
    "    for j in tracklist.find_all('div', attrs={'class': 'chart_row-content'}):\n",
    "        link = j.find('a')['href']\n",
    "        song_link = requests.get(link)\n",
    "        song = bs4.BeautifulSoup(song_link.content)\n",
    "        lyrics = ''\n",
    "        for k in song.find_all('div', attrs={'class': 'Lyrics__Container-sc-1ynbvzw-7 dVtOne'}):\n",
    "            lyrics = lyrics + k.text\n",
    "        lyrics = re.sub(r'([a-z])([A-Z])', r'\\1. \\2', lyrics)\n",
    "        song_lst.append(lyrics)"
   ]
  },
  {
   "cell_type": "code",
   "execution_count": 44,
   "metadata": {},
   "outputs": [],
   "source": [
    "cv = CountVectorizer()\n",
    "word_count = cv.fit_transform(song_lst)"
   ]
  },
  {
   "cell_type": "code",
   "execution_count": 10,
   "metadata": {},
   "outputs": [],
   "source": [
    "tfidf_transformer = TfidfTransformer(smooth_idf=True, use_idf=True)\n",
    "tfidf_transformer.fit(word_count)\n",
    "df_idf = pd.DataFrame(tfidf_transformer.idf_, index=cv.get_feature_names(), columns=['idf_weights'])"
   ]
  },
  {
   "cell_type": "code",
   "execution_count": 25,
   "metadata": {},
   "outputs": [],
   "source": [
    "tfidf_vector = tfidf_transformer.transform(word_count)\n",
    "first_song = tfidf_vector[40]"
   ]
  },
  {
   "cell_type": "code",
   "execution_count": 26,
   "metadata": {},
   "outputs": [],
   "source": [
    "df = pd.DataFrame(first_song.T.todense(), index=cv.get_feature_names(), columns=['tfidf'])"
   ]
  },
  {
   "cell_type": "code",
   "execution_count": 27,
   "metadata": {},
   "outputs": [
    {
     "data": {
      "text/html": [
       "<div>\n",
       "<style scoped>\n",
       "    .dataframe tbody tr th:only-of-type {\n",
       "        vertical-align: middle;\n",
       "    }\n",
       "\n",
       "    .dataframe tbody tr th {\n",
       "        vertical-align: top;\n",
       "    }\n",
       "\n",
       "    .dataframe thead th {\n",
       "        text-align: right;\n",
       "    }\n",
       "</style>\n",
       "<table border=\"1\" class=\"dataframe\">\n",
       "  <thead>\n",
       "    <tr style=\"text-align: right;\">\n",
       "      <th></th>\n",
       "      <th>tfidf</th>\n",
       "    </tr>\n",
       "  </thead>\n",
       "  <tbody>\n",
       "    <tr>\n",
       "      <th>fresh</th>\n",
       "      <td>0.440562</td>\n",
       "    </tr>\n",
       "    <tr>\n",
       "      <th>glitter</th>\n",
       "      <td>0.284520</td>\n",
       "    </tr>\n",
       "    <tr>\n",
       "      <th>somethin</th>\n",
       "      <td>0.237535</td>\n",
       "    </tr>\n",
       "    <tr>\n",
       "      <th>bein</th>\n",
       "      <td>0.237535</td>\n",
       "    </tr>\n",
       "    <tr>\n",
       "      <th>the</th>\n",
       "      <td>0.228277</td>\n",
       "    </tr>\n",
       "    <tr>\n",
       "      <th>teeth</th>\n",
       "      <td>0.213434</td>\n",
       "    </tr>\n",
       "    <tr>\n",
       "      <th>trill</th>\n",
       "      <td>0.201992</td>\n",
       "    </tr>\n",
       "    <tr>\n",
       "      <th>pocket</th>\n",
       "      <td>0.201992</td>\n",
       "    </tr>\n",
       "    <tr>\n",
       "      <th>full</th>\n",
       "      <td>0.166449</td>\n",
       "    </tr>\n",
       "    <tr>\n",
       "      <th>so</th>\n",
       "      <td>0.157137</td>\n",
       "    </tr>\n",
       "  </tbody>\n",
       "</table>\n",
       "</div>"
      ],
      "text/plain": [
       "             tfidf\n",
       "fresh     0.440562\n",
       "glitter   0.284520\n",
       "somethin  0.237535\n",
       "bein      0.237535\n",
       "the       0.228277\n",
       "teeth     0.213434\n",
       "trill     0.201992\n",
       "pocket    0.201992\n",
       "full      0.166449\n",
       "so        0.157137"
      ]
     },
     "execution_count": 27,
     "metadata": {},
     "output_type": "execute_result"
    }
   ],
   "source": [
    "df.sort_values(by=['tfidf'], ascending=False).head(10)"
   ]
  },
  {
   "cell_type": "code",
   "execution_count": 32,
   "metadata": {},
   "outputs": [],
   "source": [
    "songs = '\\x03 '.join(song_lst)"
   ]
  },
  {
   "cell_type": "code",
   "execution_count": 36,
   "metadata": {},
   "outputs": [],
   "source": [
    "tokens = proj.tokenize(songs)"
   ]
  },
  {
   "cell_type": "code",
   "execution_count": 57,
   "metadata": {},
   "outputs": [],
   "source": [
    "unigram = proj.NGramLM(2, tuple(tokens))"
   ]
  },
  {
   "cell_type": "code",
   "execution_count": 62,
   "metadata": {},
   "outputs": [],
   "source": [
    "samp = unigram.sample(200)"
   ]
  },
  {
   "cell_type": "code",
   "execution_count": 63,
   "metadata": {},
   "outputs": [
    {
     "data": {
      "text/plain": [
       "\"\\x02 main and lows on the liars that green so now it ' t have it float , acting like Pistol Pete . Let it a black on my shlong , and . All of the Tec 9 Trey . That nigga here bruh , and they hoppin ' t mind at a bitch a metaphor for the street ' cause you bout to get hella pain stop ? Ooh ) Let me be coolin . A . Sky is with it float . Do things gon ' m saying , yuh . Increase with my lowest , no peace to fire nigga in my diamond you wasn ' s no fuck around bangin ' t have faith , bitch , girl you wanna be the day ) Pockets too culo ( Yuh , rest home . I keep the torturer . Yeah ) Put me on our rank on yourself down on that ' m timid and my head like a Taliban with the whole globe . I shine . And looking just another young nigga , that I never leave my brain , I got me won ' on my residence . Say , Valentine red . while your\""
      ]
     },
     "execution_count": 63,
     "metadata": {},
     "output_type": "execute_result"
    }
   ],
   "source": [
    "samp"
   ]
  },
  {
   "cell_type": "code",
   "execution_count": null,
   "metadata": {},
   "outputs": [],
   "source": []
  }
 ],
 "metadata": {
  "kernelspec": {
   "display_name": "Python 3",
   "language": "python",
   "name": "python3"
  },
  "language_info": {
   "codemirror_mode": {
    "name": "ipython",
    "version": 3
   },
   "file_extension": ".py",
   "mimetype": "text/x-python",
   "name": "python",
   "nbconvert_exporter": "python",
   "pygments_lexer": "ipython3",
   "version": "3.8.5"
  }
 },
 "nbformat": 4,
 "nbformat_minor": 4
}
