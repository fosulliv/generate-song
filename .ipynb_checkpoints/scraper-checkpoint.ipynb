{
 "cells": [
  {
   "cell_type": "code",
   "execution_count": 161,
   "metadata": {},
   "outputs": [],
   "source": [
    "import numpy as np\n",
    "import pandas as pd\n",
    "import os\n",
    "import requests\n",
    "import bs4\n",
    "import json\n",
    "import seaborn as sns\n",
    "import re"
   ]
  },
  {
   "cell_type": "code",
   "execution_count": 92,
   "metadata": {},
   "outputs": [],
   "source": [
    "url = 'https://genius.com{}'"
   ]
  },
  {
   "cell_type": "code",
   "execution_count": 93,
   "metadata": {},
   "outputs": [],
   "source": [
    "response = requests.get(url.format('/artists/Denzel-curry'))\n",
    "soup = bs4.BeautifulSoup(response.content)"
   ]
  },
  {
   "cell_type": "code",
   "execution_count": null,
   "metadata": {},
   "outputs": [],
   "source": []
  },
  {
   "cell_type": "code",
   "execution_count": 96,
   "metadata": {},
   "outputs": [
    {
     "name": "stdout",
     "output_type": "stream",
     "text": [
      "Melt My Eyez, See Your Future\n",
      "13LOOD 1N + 13LOOD OUT MIXX\n",
      "ZUU\n",
      "TA13OO\n",
      "TA13OO: Act 2 (Gray)\n",
      "TA13OO: Act 1 (Light)\n"
     ]
    }
   ],
   "source": [
    "for i in soup.find_all('a', attrs={'class': 'vertical_album_card'}):\n",
    "    print(i['title'])"
   ]
  },
  {
   "cell_type": "code",
   "execution_count": 98,
   "metadata": {},
   "outputs": [
    {
     "data": {
      "text/plain": [
       "'/artists/albums?for_artist_page=16690&id=Denzel-curry'"
      ]
     },
     "execution_count": 98,
     "metadata": {},
     "output_type": "execute_result"
    }
   ],
   "source": [
    "new_url = soup.find_all('a', attrs={'class': 'full_width_button'})[1]['href']\n",
    "new_url"
   ]
  },
  {
   "cell_type": "code",
   "execution_count": 104,
   "metadata": {},
   "outputs": [],
   "source": [
    "albums_request = requests.get(url.format(new_url))\n",
    "albums = bs4.BeautifulSoup(albums_request.content)"
   ]
  },
  {
   "cell_type": "code",
   "execution_count": 119,
   "metadata": {},
   "outputs": [
    {
     "data": {
      "text/plain": [
       "[<li><a class=\"album_link\" href=\"/albums/Denzel-curry/Ta13oo-act-1-light\">TA13OO: Act 1 (Light)</a></li>,\n",
       " <li><a class=\"album_link\" href=\"/albums/Denzel-curry/Imperial-streaming-version\">Imperial (Streaming Version)</a></li>,\n",
       " <li><a class=\"album_link\" href=\"/albums/Denzel-curry/Melt-my-eyez-see-your-future\">Melt My Eyez, See Your Future</a></li>,\n",
       " <li><a class=\"album_link\" href=\"/albums/Denzel-curry/Nostalgic-64\">Nostalgic 64</a></li>,\n",
       " <li><a class=\"album_link\" href=\"/albums/Denzel-curry/Zuu\">ZUU</a></li>,\n",
       " <li><a class=\"album_link\" href=\"/albums/Denzel-curry/Ta13oo\">TA13OO</a></li>,\n",
       " <li><a class=\"album_link\" href=\"/albums/Denzel-curry/Curry-wuz-here\">Curry Wuz Here</a></li>,\n",
       " <li><a class=\"album_link\" href=\"/albums/Denzel-curry/Imperial\">Imperial</a></li>,\n",
       " <li><a class=\"album_link\" href=\"/albums/Denzel-curry/King-remembered-underground-tape-19911995\">King Remembered (Underground Tape 1991–1995)</a></li>,\n",
       " <li><a class=\"album_link\" href=\"/albums/Denzel-curry/32-zel\">32 Zel</a></li>,\n",
       " <li><a class=\"album_link\" href=\"/albums/Denzel-curry/13lood-1n-13lood-out-mixx\">13LOOD 1N + 13LOOD OUT MIXX</a></li>,\n",
       " <li><a class=\"album_link\" href=\"/albums/Denzel-curry/Planet-shrooms\">Planet Shrooms</a></li>,\n",
       " <li><a class=\"album_link\" href=\"/albums/Denzel-curry/Strictly-4-my-r-v-i-d-x-r-z\">Strictly 4 my R.V.I.D.X.R.Z.</a></li>,\n",
       " <li><a class=\"album_link\" href=\"/albums/Denzel-curry/13\">13</a></li>,\n",
       " <li><a class=\"album_link\" href=\"/albums/Denzel-curry/Ta13oo-act-3-dark\">TA13OO: Act 3 (Dark)</a></li>,\n",
       " <li><a class=\"album_link\" href=\"/albums/Denzel-curry/Ta13oo-act-2-gray\">TA13OO: Act 2 (Gray)</a></li>,\n",
       " <li><a class=\"album_link\" href=\"/albums/Denzel-curry/Spotify-singles\">Spotify Singles</a></li>,\n",
       " <li><a class=\"album_link\" href=\"/albums/Denzel-curry/King-of-the-mischievous-south-vol-1-underground-tape-1996\">King of the Mischievous South, Vol. 1 (Underground Tape 1996)</a></li>,\n",
       " <li><a class=\"album_link\" href=\"/albums/Denzel-curry/Black-balloons-13lack-13alloonz-love-below-remixes\">BLACK BALLOONS | 13LACK 13ALLOONZ (Love Below Remixes)</a></li>,\n",
       " <li><a class=\"album_link\" href=\"/albums/Denzel-curry/Ultimate-sick-tired-badbadnotgood-sessions\">Ultimate / Sick &amp; Tired (BADBADNOTGOOD Sessions)</a></li>]"
      ]
     },
     "execution_count": 119,
     "metadata": {},
     "output_type": "execute_result"
    }
   ],
   "source": [
    "album_lst = albums.find('ul', attrs={'class': 'album_list primary_list'}).find_all('li')\n",
    "album_lst"
   ]
  },
  {
   "cell_type": "code",
   "execution_count": 122,
   "metadata": {},
   "outputs": [],
   "source": [
    "for i in album_lst:\n",
    "    link = i.find('a')['href']\n",
    "    new_url = url.format(link)\n",
    "    response = requests.get(new_url)\n",
    "    soup = bs4.BeautifulSoup(response.content)\n",
    "    tracklist = soup.find_all('div', attrs={'class': 'column_layout-column_span column_layout-column_span--primary'})[1]\n",
    "    "
   ]
  },
  {
   "cell_type": "code",
   "execution_count": 123,
   "metadata": {},
   "outputs": [],
   "source": [
    "response = requests.get(url.format('/albums/Denzel-curry/Nostalgic-64'))\n",
    "soup = bs4.BeautifulSoup(response.content)"
   ]
  },
  {
   "cell_type": "code",
   "execution_count": 133,
   "metadata": {},
   "outputs": [],
   "source": [
    "tracklist = soup.find_all('div', attrs={'class': 'column_layout-column_span column_layout-column_span--primary'})[1]"
   ]
  },
  {
   "cell_type": "code",
   "execution_count": 144,
   "metadata": {},
   "outputs": [],
   "source": [
    "for i in tracklist.find_all('div', attrs={'class': 'chart_row-content'}):\n",
    "    link = i.find('a')['href']\n",
    "    song_link = requests.get(link)\n",
    "    song = bs4.BeautifulSoup(song_link.content)"
   ]
  },
  {
   "cell_type": "code",
   "execution_count": 175,
   "metadata": {},
   "outputs": [],
   "source": [
    "lyrics = ''\n",
    "for i in song.find_all('div', attrs={'class': 'Lyrics__Container-sc-1ynbvzw-7 dVtOne'}):\n",
    "    lyrics = lyrics + i.text\n",
    "lyrics = re.sub(r'([a-z])([A-Z])', r'\\1. \\2', lyrics)"
   ]
  },
  {
   "cell_type": "code",
   "execution_count": 177,
   "metadata": {},
   "outputs": [
    {
     "data": {
      "text/plain": [
       "\"[Intro]I do this for my niggas. I do this for myself. Enter my mind. That's all I can say nigga[Verse]Five in the morning turn to six, my life has turned into a bitch. With the fucking wettest clit in the galaxy. Rapidly tripping and rapping and snapping. And killing my niggas that coming through blasting. And looking for money, and looking for magic. We sticking together like metal and magnets. Lutrashious, me and Mercedes up in the condo. On the phone for nine months, we sparked the conversation. Enter the void, mind escaping. Racing, plus my heart rate went blazing. Ganja, as I ponder on graduation. Threats hit a nigga, the points where I could make it. Not a contract, could take what I created. Not on paper, my clan-name erased it. Down nigga, since day one, I never hate shit. Same nigga tat 2-7-5 on the pavement. Got highs and lows on one path of greatness. Eighteen years of life, larger than basic. Markese, Andrew, Darnell, et cetera. It's still my niggas, know things will get better but. Things take time, and all things change. Some people venture off and make they own lane. But the place is just the same from the F.L.ABut my cuzzo Chynaman got hit with the eight from the clip. And my nigga William had his last trip. When he hung his self in his room. Roll up the spliff as I puff one, puff two for my niggas. Then three for the niggas that be hating. Nigga, I don't care, Aquarius Killa, the Mack. Talk your girl up out her underwear. Let me bite that pussy like a god damn juicy bear. Suicidal thoughts, I'm on my head to make it clear. Another life and day, hallucinate got me in my rear. Lamborghini dreams, Freddy Krueger is my shooter. Raider still the klan, but C9 is the future, bitch[Outro](Na na na na na na, na-na-na na na)Synthesize, and realize, that life's no game. Synthesize, and realize, that life's no game. Synthesize, and realize, life's no game, no. No game, no game, no, no game. I should have said it's no game, no. No game, No game, no. Synthesize, and realize, life's no game. Synthesize, and realize, life's no game, no game. Synthesize, realize, life's no game. Synthesize, realize, life's no game(Game over man)\""
      ]
     },
     "execution_count": 177,
     "metadata": {},
     "output_type": "execute_result"
    }
   ],
   "source": [
    "lyrics"
   ]
  },
  {
   "cell_type": "code",
   "execution_count": null,
   "metadata": {},
   "outputs": [],
   "source": []
  }
 ],
 "metadata": {
  "kernelspec": {
   "display_name": "Python 3",
   "language": "python",
   "name": "python3"
  },
  "language_info": {
   "codemirror_mode": {
    "name": "ipython",
    "version": 3
   },
   "file_extension": ".py",
   "mimetype": "text/x-python",
   "name": "python",
   "nbconvert_exporter": "python",
   "pygments_lexer": "ipython3",
   "version": "3.8.5"
  }
 },
 "nbformat": 4,
 "nbformat_minor": 4
}
