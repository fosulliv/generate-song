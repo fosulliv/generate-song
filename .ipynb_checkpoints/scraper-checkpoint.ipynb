{
 "cells": [
  {
   "cell_type": "code",
   "execution_count": 221,
   "metadata": {},
   "outputs": [],
   "source": [
    "import numpy as np\n",
    "import pandas as pd\n",
    "import os\n",
    "import requests\n",
    "import bs4\n",
    "import json\n",
    "import seaborn as sns\n",
    "import re\n",
    "from sklearn.feature_extraction.text import TfidfTransformer\n",
    "from sklearn.feature_extraction.text import CountVectorizer\n",
    "from difflib import SequenceMatcher\n",
    "import project04 as proj"
   ]
  },
  {
   "cell_type": "code",
   "execution_count": 222,
   "metadata": {},
   "outputs": [],
   "source": [
    "def similar(a, b):\n",
    "    return SequenceMatcher(None, a, b).ratio()"
   ]
  },
  {
   "cell_type": "code",
   "execution_count": 223,
   "metadata": {},
   "outputs": [],
   "source": [
    "url = 'https://genius.com{}'\n",
    "artist = 'billie eilish'\n",
    "search_bar = '/artists/'+artist.capitalize().replace(' ', '-')"
   ]
  },
  {
   "cell_type": "code",
   "execution_count": 224,
   "metadata": {},
   "outputs": [],
   "source": [
    "response = requests.get(url.format(search_bar))\n",
    "soup = bs4.BeautifulSoup(response.content)"
   ]
  },
  {
   "cell_type": "code",
   "execution_count": 225,
   "metadata": {},
   "outputs": [
    {
     "name": "stdout",
     "output_type": "stream",
     "text": [
      "Happier Than Ever\n",
      "Music from “Billie Eilish: The World’s a Little Blurry” (An Apple Original Film)\n",
      "WHEN WE ALL FALL ASLEEP, WHERE DO WE GO? (Target Exclusive)\n",
      "Live at Third Man Records\n",
      "WHEN WE ALL FALL ASLEEP, WHERE DO WE GO?\n",
      "WHEN WE ALL FALL ASLEEP, WHERE DO WE GO? (Japanese Import)\n"
     ]
    }
   ],
   "source": [
    "for i in soup.find_all('a', attrs={'class': 'vertical_album_card'}):\n",
    "    print(i['title'])"
   ]
  },
  {
   "cell_type": "code",
   "execution_count": 226,
   "metadata": {},
   "outputs": [],
   "source": [
    "new_url = soup.find_all('a', attrs={'class': 'full_width_button'})[1]['href']"
   ]
  },
  {
   "cell_type": "code",
   "execution_count": 227,
   "metadata": {},
   "outputs": [],
   "source": [
    "albums_request = requests.get(url.format(new_url))\n",
    "albums = bs4.BeautifulSoup(albums_request.content)"
   ]
  },
  {
   "cell_type": "code",
   "execution_count": 228,
   "metadata": {},
   "outputs": [
    {
     "data": {
      "text/plain": [
       "[<li><a class=\"album_link\" href=\"/albums/Billie-eilish/Music-from-billie-eilish-the-worlds-a-little-blurry-an-apple-original-film\">Music from “Billie Eilish: The World’s a Little Blurry” (An Apple Original Film)</a></li>,\n",
       " <li><a class=\"album_link\" href=\"/albums/Billie-eilish/Happier-than-ever\">Happier Than Ever</a></li>,\n",
       " <li><a class=\"album_link\" href=\"/albums/Billie-eilish/Happier-than-ever-spotify-lyric-mode\">Happier Than Ever [Spotify Lyric Mode]</a></li>,\n",
       " <li><a class=\"album_link\" href=\"/albums/Billie-eilish/Unreleased-songs\">Unreleased Songs</a></li>,\n",
       " <li><a class=\"album_link\" href=\"/albums/Billie-eilish/When-we-all-fall-asleep-where-do-we-go\">WHEN WE ALL FALL ASLEEP, WHERE DO WE GO?</a></li>,\n",
       " <li><a class=\"album_link\" href=\"/albums/Billie-eilish/When-we-all-fall-asleep-where-do-we-go-target-exclusive\">WHEN WE ALL FALL ASLEEP, WHERE DO WE GO? (Target Exclusive)</a></li>,\n",
       " <li><a class=\"album_link\" href=\"/albums/Billie-eilish/Dont-smile-at-me-japanese-import\">dont smile at me (Japanese Import)</a></li>,\n",
       " <li><a class=\"album_link\" href=\"/albums/Billie-eilish/Dont-smile-at-me\">dont smile at me</a></li>,\n",
       " <li><a class=\"album_link\" href=\"/albums/Billie-eilish/When-we-all-fall-asleep-where-do-we-go-japanese-import\">WHEN WE ALL FALL ASLEEP, WHERE DO WE GO? (Japanese Import)</a></li>,\n",
       " <li><a class=\"album_link\" href=\"/albums/Billie-eilish/Live-at-third-man-records\">Live at Third Man Records</a></li>,\n",
       " <li><a class=\"album_link\" href=\"/albums/Billie-eilish/Party-favor-hotline-bling\">party favor / hotline bling</a></li>,\n",
       " <li><a class=\"album_link\" href=\"/albums/Billie-eilish/You-should-see-me-in-a-crown-bitches-broken-hearts\">you should see me in a crown / bitches broken hearts</a></li>,\n",
       " <li><a class=\"album_link\" href=\"/albums/Billie-eilish/Six-feet-under-remixes\">Six Feet Under (Remixes)</a></li>,\n",
       " <li><a class=\"album_link\" href=\"/albums/Billie-eilish/Billie-eilish-live-at-the-steve-jobs-theater\">Billie Eilish Live at the Steve Jobs Theater</a></li>,\n",
       " <li><a class=\"album_link\" href=\"/albums/Billie-eilish/Up-next-session-billie-eilish\">Up Next Session: Billie Eilish</a></li>,\n",
       " <li><a class=\"album_link\" href=\"/albums/Billie-eilish/Ocean-eyes-the-remixes-ep\">Ocean Eyes (The Remixes) - EP</a></li>]"
      ]
     },
     "execution_count": 228,
     "metadata": {},
     "output_type": "execute_result"
    }
   ],
   "source": [
    "album_lst = albums.find('ul', attrs={'class': 'album_list primary_list'}).find_all('li')\n",
    "album_lst"
   ]
  },
  {
   "cell_type": "code",
   "execution_count": 252,
   "metadata": {},
   "outputs": [],
   "source": [
    "song_dict = {}\n",
    "for i in album_lst:\n",
    "    link = i.find('a')['href']\n",
    "    new_url = url.format(link)\n",
    "    response = requests.get(new_url)\n",
    "    soup = bs4.BeautifulSoup(response.content)\n",
    "    tracklist = soup.find_all('div', attrs={'class': 'column_layout-column_span column_layout-column_span--primary'})[1]\n",
    "    for j in tracklist.find_all('div', attrs={'class': 'chart_row-content'}):\n",
    "        link = j.find('a')['href']\n",
    "        song_link = requests.get(link)\n",
    "        song = bs4.BeautifulSoup(song_link.content)\n",
    "        song_page = song.find('div', attrs={'id': 'application'})\n",
    "        title = song.find('h1').text.replace('\\u200b', '')\n",
    "        singer = song.find_all('a')[8].text.lower()\n",
    "        if singer != artist:\n",
    "            continue\n",
    "        if song_page == None:\n",
    "            continue\n",
    "        else:\n",
    "            lyr = song_page.find_all('div')[39].text\n",
    "            lyr = re.sub(r'([a-z])([A-Z])', r'\\1 xxxx \\2', lyr)\n",
    "            lyr = re.sub(r'\\[[\\w :&-]*\\]', ' ', lyr)\n",
    "            lyr = re.sub(r'Embed[\\w .]*', '', lyr)\n",
    "            lyr = lyr.replace('\\u205f', ' ')\n",
    "            lyr = lyr.replace('\\u2005', ' ')\n",
    "            lyr = re.sub(r'(\\)|\\?)(\\'|\\w)', r'\\1 \\2', lyr)\n",
    "            lyr = re.sub(r'([a-zA-z])([0-9]+)', r'\\1', lyr)\n",
    "            lyr = lyr.strip()\n",
    "        if title in song_dict:\n",
    "            continue\n",
    "        else:\n",
    "            song_dict[title] = lyr"
   ]
  },
  {
   "cell_type": "code",
   "execution_count": 253,
   "metadata": {},
   "outputs": [],
   "source": [
    "lyrics = list(song_dict.values())\n",
    "cv = CountVectorizer()\n",
    "word_count = cv.fit_transform(lyrics)"
   ]
  },
  {
   "cell_type": "code",
   "execution_count": 254,
   "metadata": {},
   "outputs": [],
   "source": [
    "tfidf_transformer = TfidfTransformer(smooth_idf=True, use_idf=True)\n",
    "tfidf_transformer.fit(word_count)\n",
    "df_idf = pd.DataFrame(tfidf_transformer.idf_, index=cv.get_feature_names(), columns=['idf_weights'])"
   ]
  },
  {
   "cell_type": "code",
   "execution_count": 258,
   "metadata": {},
   "outputs": [],
   "source": [
    "count_vector = cv.transform(lyrics)\n",
    "tf_idf_vector = tfidf_transformer.transform(count_vector)"
   ]
  },
  {
   "cell_type": "code",
   "execution_count": 259,
   "metadata": {},
   "outputs": [
    {
     "data": {
      "text/html": [
       "<div>\n",
       "<style scoped>\n",
       "    .dataframe tbody tr th:only-of-type {\n",
       "        vertical-align: middle;\n",
       "    }\n",
       "\n",
       "    .dataframe tbody tr th {\n",
       "        vertical-align: top;\n",
       "    }\n",
       "\n",
       "    .dataframe thead th {\n",
       "        text-align: right;\n",
       "    }\n",
       "</style>\n",
       "<table border=\"1\" class=\"dataframe\">\n",
       "  <thead>\n",
       "    <tr style=\"text-align: right;\">\n",
       "      <th></th>\n",
       "      <th>tfidf</th>\n",
       "    </tr>\n",
       "  </thead>\n",
       "  <tbody>\n",
       "    <tr>\n",
       "      <th>blah</th>\n",
       "      <td>0.386472</td>\n",
       "    </tr>\n",
       "    <tr>\n",
       "      <th>xxxx</th>\n",
       "      <td>0.331343</td>\n",
       "    </tr>\n",
       "    <tr>\n",
       "      <th>you</th>\n",
       "      <td>0.299787</td>\n",
       "    </tr>\n",
       "    <tr>\n",
       "      <th>birthday</th>\n",
       "      <td>0.257648</td>\n",
       "    </tr>\n",
       "    <tr>\n",
       "      <th>bullshit</th>\n",
       "      <td>0.257648</td>\n",
       "    </tr>\n",
       "    <tr>\n",
       "      <th>...</th>\n",
       "      <td>...</td>\n",
       "    </tr>\n",
       "    <tr>\n",
       "      <th>givin</th>\n",
       "      <td>0.000000</td>\n",
       "    </tr>\n",
       "    <tr>\n",
       "      <th>gives</th>\n",
       "      <td>0.000000</td>\n",
       "    </tr>\n",
       "    <tr>\n",
       "      <th>givenchy</th>\n",
       "      <td>0.000000</td>\n",
       "    </tr>\n",
       "    <tr>\n",
       "      <th>given</th>\n",
       "      <td>0.000000</td>\n",
       "    </tr>\n",
       "    <tr>\n",
       "      <th>yrc</th>\n",
       "      <td>0.000000</td>\n",
       "    </tr>\n",
       "  </tbody>\n",
       "</table>\n",
       "<p>1710 rows × 1 columns</p>\n",
       "</div>"
      ],
      "text/plain": [
       "             tfidf\n",
       "blah      0.386472\n",
       "xxxx      0.331343\n",
       "you       0.299787\n",
       "birthday  0.257648\n",
       "bullshit  0.257648\n",
       "...            ...\n",
       "givin     0.000000\n",
       "gives     0.000000\n",
       "givenchy  0.000000\n",
       "given     0.000000\n",
       "yrc       0.000000\n",
       "\n",
       "[1710 rows x 1 columns]"
      ]
     },
     "execution_count": 259,
     "metadata": {},
     "output_type": "execute_result"
    }
   ],
   "source": [
    "feature_names = cv.get_feature_names()\n",
    "first_document_vector = tf_idf_vector[5]\n",
    "df = pd.DataFrame(first_document_vector.T.todense(), index=feature_names, columns=['tfidf'])\n",
    "df.sort_values(by=['tfidf'], ascending=False)"
   ]
  },
  {
   "cell_type": "code",
   "execution_count": null,
   "metadata": {},
   "outputs": [],
   "source": []
  },
  {
   "cell_type": "code",
   "execution_count": 265,
   "metadata": {},
   "outputs": [],
   "source": [
    "songs = ' xxxx '.join(lyrics)"
   ]
  },
  {
   "cell_type": "code",
   "execution_count": 266,
   "metadata": {},
   "outputs": [],
   "source": [
    "tokens = proj.tokenize(songs)"
   ]
  },
  {
   "cell_type": "code",
   "execution_count": 267,
   "metadata": {},
   "outputs": [],
   "source": [
    "unigram = proj.NGramLM(3, tuple(tokens))"
   ]
  },
  {
   "cell_type": "code",
   "execution_count": 295,
   "metadata": {},
   "outputs": [],
   "source": [
    "samp = unigram.sample(300)"
   ]
  },
  {
   "cell_type": "code",
   "execution_count": 300,
   "metadata": {},
   "outputs": [],
   "source": [
    "samp = re.sub(' (\\') ', '\\'', samp)"
   ]
  },
  {
   "cell_type": "code",
   "execution_count": 301,
   "metadata": {},
   "outputs": [
    {
     "data": {
      "text/plain": [
       "'\\x02 you\\x01ve been uninvited\\x01Cause I\\x01m overheated , can\\x01t say I need you for some time xxxx I\\x01m no good xxxx And I don\\x01t sympathy for you xxxx You\\x01d you want a good girl , then goodbye xxxx I started watchin\\x01you out ? Am I satisfactory ? Today , I seem to notice I\\x01m hopeless xxxx What an expensive fake xxxx My boy xxxx Don\\x01t xxxx And your best friend , too xxxx For I\\x01m not sorry , I ’ ve been watchin\\x01you out ? Am I my stomach ? My hips ? The body I was like \" that\\x01s not stoned xxxx Don\\x01t be deleted , can\\x01t get complacent ) ( Blow away xxxx Come out and play xxxx Take my hand , take your aim xxxx I\\x01m so sorry , sorry xxxx Call me cocky , watch your car burn xxxx With your arms , mm - mm , quiet xxxx Hmm , down Call my friends and tell them that I look good ? Just waiting for it gets so boring xxxx A lot can happen in the dark xxxx And I\\x01ll be your answer ( Be your answer )\\x01Cause I just kinda wish you were gay Is there a 12 step just for us to all be grateful that we\\x01re a tough guy xxxx Chest always so puffed guy xxxx Chest always so puffed guy xxxx Just fuckin\\x01friends xxxx I know supposedly I\\x01m all that matters xxxx Leave me like I do what I wear xxxx Some people hate what I promise you , it is'"
      ]
     },
     "execution_count": 301,
     "metadata": {},
     "output_type": "execute_result"
    }
   ],
   "source": [
    "samp"
   ]
  },
  {
   "cell_type": "code",
   "execution_count": 302,
   "metadata": {},
   "outputs": [
    {
     "name": "stdout",
     "output_type": "stream",
     "text": [
      "\u0002 you\u0001ve been uninvited\u0001Cause I\u0001m overheated , can\u0001t say I need you for some time xxxx I\u0001m no good xxxx And I don\u0001t sympathy for you xxxx You\u0001d you want a good girl , then goodbye xxxx I started watchin\u0001you out ? Am I satisfactory ? Today , I seem to notice I\u0001m hopeless xxxx What an expensive fake xxxx My boy xxxx Don\u0001t xxxx And your best friend , too xxxx For I\u0001m not sorry , I ’ ve been watchin\u0001you out ? Am I my stomach ? My hips ? The body I was like \" that\u0001s not stoned xxxx Don\u0001t be deleted , can\u0001t get complacent ) ( Blow away xxxx Come out and play xxxx Take my hand , take your aim xxxx I\u0001m so sorry , sorry xxxx Call me cocky , watch your car burn xxxx With your arms , mm - mm , quiet xxxx Hmm , down Call my friends and tell them that I look good ? Just waiting for it gets so boring xxxx A lot can happen in the dark xxxx And I\u0001ll be your answer ( Be your answer )\u0001Cause I just kinda wish you were gay Is there a 12 step just for us to all be grateful that we\u0001re a tough guy xxxx Chest always so puffed guy xxxx Chest always so puffed guy xxxx Just fuckin\u0001friends xxxx I know supposedly I\u0001m all that matters xxxx Leave me like I do what I wear xxxx Some people hate what I promise you , it is\n"
     ]
    }
   ],
   "source": [
    "print(samp)"
   ]
  },
  {
   "cell_type": "code",
   "execution_count": null,
   "metadata": {},
   "outputs": [],
   "source": []
  },
  {
   "cell_type": "code",
   "execution_count": null,
   "metadata": {},
   "outputs": [],
   "source": []
  }
 ],
 "metadata": {
  "kernelspec": {
   "display_name": "Python 3",
   "language": "python",
   "name": "python3"
  },
  "language_info": {
   "codemirror_mode": {
    "name": "ipython",
    "version": 3
   },
   "file_extension": ".py",
   "mimetype": "text/x-python",
   "name": "python",
   "nbconvert_exporter": "python",
   "pygments_lexer": "ipython3",
   "version": "3.8.5"
  }
 },
 "nbformat": 4,
 "nbformat_minor": 4
}
