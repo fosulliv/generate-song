{
 "cells": [
  {
   "cell_type": "code",
   "execution_count": 255,
   "metadata": {},
   "outputs": [],
   "source": [
    "import numpy as np\n",
    "import pandas as pd\n",
    "import os\n",
    "import requests\n",
    "import bs4\n",
    "import json\n",
    "import seaborn as sns\n",
    "import re\n",
    "from sklearn.feature_extraction.text import TfidfTransformer\n",
    "from sklearn.feature_extraction.text import CountVectorizer\n",
    "from difflib import SequenceMatcher\n",
    "import project04 as proj"
   ]
  },
  {
   "cell_type": "code",
   "execution_count": 256,
   "metadata": {},
   "outputs": [],
   "source": [
    "def similar(a, b):\n",
    "    return SequenceMatcher(None, a, b).ratio()"
   ]
  },
  {
   "cell_type": "code",
   "execution_count": 257,
   "metadata": {},
   "outputs": [],
   "source": [
    "url = 'https://genius.com{}'\n",
    "artist = 'taylor swift'\n",
    "search_bar = '/artists/'+artist.capitalize().replace(' ', '-')"
   ]
  },
  {
   "cell_type": "code",
   "execution_count": 258,
   "metadata": {},
   "outputs": [],
   "source": [
    "response = requests.get(url.format(search_bar))\n",
    "soup = bs4.BeautifulSoup(response.content)"
   ]
  },
  {
   "cell_type": "code",
   "execution_count": 259,
   "metadata": {},
   "outputs": [
    {
     "name": "stdout",
     "output_type": "stream",
     "text": [
      "evermore (digitally autographed fan edition)\n",
      "evermore (deluxe version)\n",
      "evermore (Japanese Edition)\n",
      "evermore\n",
      "folklore: the long pond studio sessions (from the Disney+ special) [deluxe edition]\n",
      "folklore: the saltbox house chapter\n"
     ]
    }
   ],
   "source": [
    "for i in soup.find_all('a', attrs={'class': 'vertical_album_card'}):\n",
    "    print(i['title'])"
   ]
  },
  {
   "cell_type": "code",
   "execution_count": 260,
   "metadata": {},
   "outputs": [],
   "source": [
    "new_url = soup.find_all('a', attrs={'class': 'full_width_button'})[1]['href']"
   ]
  },
  {
   "cell_type": "code",
   "execution_count": 261,
   "metadata": {},
   "outputs": [],
   "source": [
    "albums_request = requests.get(url.format(new_url))\n",
    "albums = bs4.BeautifulSoup(albums_request.content)"
   ]
  },
  {
   "cell_type": "code",
   "execution_count": 262,
   "metadata": {},
   "outputs": [
    {
     "data": {
      "text/plain": [
       "[<li><a class=\"album_link\" href=\"/albums/Taylor-swift/Taylor-s-songs-2003-demo\">\"Taylor's Songs\" 2003 Demo</a></li>,\n",
       " <li><a class=\"album_link\" href=\"/albums/Taylor-swift/2003-demo-cd-two-songs\">2003 Demo CD (Two Songs)</a></li>,\n",
       " <li><a class=\"album_link\" href=\"/albums/Taylor-swift/2004-demo-cd-three-songs\">2004 Demo CD (Three Songs)</a></li>,\n",
       " <li><a class=\"album_link\" href=\"/albums/Taylor-swift/2004-demo-cd\">2004 Demo CD</a></li>,\n",
       " <li><a class=\"album_link\" href=\"/albums/Taylor-swift/Evermore\">evermore</a></li>,\n",
       " <li><a class=\"album_link\" href=\"/albums/Taylor-swift/Red\">Red</a></li>,\n",
       " <li><a class=\"album_link\" href=\"/albums/Taylor-swift/Fearless-international-edition\">Fearless (International Edition)</a></li>,\n",
       " <li><a class=\"album_link\" href=\"/albums/Taylor-swift/Spotify-singles\">Spotify Singles</a></li>,\n",
       " <li><a class=\"album_link\" href=\"/albums/Taylor-swift/Red-deluxe-edition\">Red (Deluxe Edition)</a></li>,\n",
       " <li><a class=\"album_link\" href=\"/albums/Taylor-swift/1989-taylors-version\">1989 (Taylor’s Version)</a></li>,\n",
       " <li><a class=\"album_link\" href=\"/albums/Taylor-swift/Taylor-swift\">Taylor Swift</a></li>,\n",
       " <li><a class=\"album_link\" href=\"/albums/Taylor-swift/Live-from-paris\">Live from Paris</a></li>,\n",
       " <li><a class=\"album_link\" href=\"/albums/Taylor-swift/Lover\">Lover</a></li>,\n",
       " <li><a class=\"album_link\" href=\"/albums/Taylor-swift/Live-from-soho-ep\">Live from SoHo - EP</a></li>,\n",
       " <li><a class=\"album_link\" href=\"/albums/Taylor-swift/Folklore-the-escapism-chapter\">folklore: the escapism chapter</a></li>,\n",
       " <li><a class=\"album_link\" href=\"/albums/Taylor-swift/The-taylor-swift-holiday-collection-ep\">The Taylor Swift Holiday Collection - EP</a></li>,\n",
       " <li><a class=\"album_link\" href=\"/albums/Taylor-swift/Fearless\">Fearless</a></li>,\n",
       " <li><a class=\"album_link\" href=\"/albums/Taylor-swift/Speak-now-taylors-version\">Speak Now (Taylor’s Version)</a></li>,\n",
       " <li><a class=\"album_link\" href=\"/albums/Taylor-swift/Fearless-platinum-edition\">Fearless (Platinum Edition)</a></li>,\n",
       " <li><a class=\"album_link\" href=\"/albums/Taylor-swift/Rhapsody-originals-exclusive\">Rhapsody Originals (Exclusive)</a></li>,\n",
       " <li><a class=\"album_link\" href=\"/albums/Taylor-swift/Fearless-taylors-version-the-kissing-in-the-rain-chapter\">Fearless (Taylor’s Version): The Kissing In The Rain Chapter</a></li>,\n",
       " <li><a class=\"album_link\" href=\"/albums/Taylor-swift/Beautiful-eyes-ep\">Beautiful Eyes - EP</a></li>,\n",
       " <li><a class=\"album_link\" href=\"/albums/Taylor-swift/Folklore\">folklore</a></li>,\n",
       " <li><a class=\"album_link\" href=\"/albums/Taylor-swift/Folklore-the-sleepless-nights-chapter\">folklore: the sleepless nights chapter </a></li>,\n",
       " <li><a class=\"album_link\" href=\"/albums/Taylor-swift/Fearless-taylors-version-the-from-the-vault-chapter\">Fearless (Taylor’s Version): The From the Vault Chapter</a></li>,\n",
       " <li><a class=\"album_link\" href=\"/albums/Taylor-swift/Taylor-swift-best-buy-exclusive\">Taylor Swift (Best Buy Exclusive) </a></li>,\n",
       " <li><a class=\"album_link\" href=\"/albums/Taylor-swift/Taylor-swift-deluxe\">Taylor Swift (Deluxe)</a></li>,\n",
       " <li><a class=\"album_link\" href=\"/albums/Taylor-swift/Live-from-clear-channel-stripped-2008\">Live From Clear Channel Stripped 2008 </a></li>,\n",
       " <li><a class=\"album_link\" href=\"/albums/Taylor-swift/Speak-now-world-tour-live-deluxe\">Speak Now: World Tour Live (Deluxe)</a></li>,\n",
       " <li><a class=\"album_link\" href=\"/albums/Taylor-swift/Folklore-the-saltbox-house-chapter\">folklore: the saltbox house chapter</a></li>,\n",
       " <li><a class=\"album_link\" href=\"/albums/Taylor-swift/Evermore-the-forever-is-the-sweetest-con-chapter\">evermore: the “forever is the sweetest con” chapter</a></li>,\n",
       " <li><a class=\"album_link\" href=\"/albums/Taylor-swift/Speak-now-world-tour-live\">Speak Now: World Tour Live</a></li>,\n",
       " <li><a class=\"album_link\" href=\"/albums/Taylor-swift/Love-story-uk-cd-single\">Love Story [UK CD Single] </a></li>,\n",
       " <li><a class=\"album_link\" href=\"/albums/Taylor-swift/Fearless-japanese-edition\">Fearless (Japanese Edition)</a></li>,\n",
       " <li><a class=\"album_link\" href=\"/albums/Taylor-swift/2003-demo-cd\">2003 Demo CD</a></li>,\n",
       " <li><a class=\"album_link\" href=\"/albums/Taylor-swift/Folklore-the-yeah-i-showed-up-at-your-party-chapter\">folklore: the yeah I showed up at your party chapter</a></li>,\n",
       " <li><a class=\"album_link\" href=\"/albums/Taylor-swift/Love-story-single\">Love Story - Single</a></li>,\n",
       " <li><a class=\"album_link\" href=\"/albums/Taylor-swift/2002-demo-cd\">2002 Demo CD</a></li>,\n",
       " <li><a class=\"album_link\" href=\"/albums/Taylor-swift/Fearless-entertainer-redefined-cma-consideration\">Fearless - Entertainer Redefined (CMA Consideration)</a></li>,\n",
       " <li><a class=\"album_link\" href=\"/albums/Taylor-swift/Speak-now\">Speak Now</a></li>,\n",
       " <li><a class=\"album_link\" href=\"/albums/Taylor-swift/Speak-now-world-tour-live-brazilian-edition\">Speak Now: World Tour Live (Brazilian Edition)</a></li>,\n",
       " <li><a class=\"album_link\" href=\"/albums/Taylor-swift/Folklore-the-long-pond-studio-sessions-from-the-disney-special\">folklore: the long pond studio sessions (from the Disney+ special)</a></li>,\n",
       " <li><a class=\"album_link\" href=\"/albums/Taylor-swift/Folklore-the-long-pond-studio-sessions-from-the-disney-special-deluxe-edition\">folklore: the long pond studio sessions (from the Disney+ special) [deluxe edition]</a></li>,\n",
       " <li><a class=\"album_link\" href=\"/albums/Taylor-swift/Cardigan-songwriting-voice-memo\">cardigan + songwriting voice memo</a></li>,\n",
       " <li><a class=\"album_link\" href=\"/albums/Taylor-swift/Stripped-raw-real\">Stripped: Raw &amp; Real</a></li>,\n",
       " <li><a class=\"album_link\" href=\"/albums/Taylor-swift/Evermore-japanese-edition\">evermore (Japanese Edition)</a></li>,\n",
       " <li><a class=\"album_link\" href=\"/albums/Taylor-swift/Willow-the-witch-collection\">willow (the witch collection)</a></li>,\n",
       " <li><a class=\"album_link\" href=\"/albums/Taylor-swift/Evermore-the-ladies-lunching-chapter\">evermore: the “ladies lunching” chapter</a></li>,\n",
       " <li><a class=\"album_link\" href=\"/albums/Taylor-swift/1989\">1989</a></li>,\n",
       " <li><a class=\"album_link\" href=\"/albums/Taylor-swift/Reputation\">reputation</a></li>,\n",
       " <li><a class=\"album_link\" href=\"/albums/Taylor-swift/Speak-now-deluxe\">Speak Now (Deluxe)</a></li>,\n",
       " <li><a class=\"album_link\" href=\"/albums/Taylor-swift/Evermore-the-dropped-your-hand-while-dancing-chapter\">evermore: the dropped your hand while dancing chapter</a></li>,\n",
       " <li><a class=\"album_link\" href=\"/albums/Taylor-swift/Fearless-taylor-s-version-the-halfway-out-the-door-chapter\">Fearless (Taylor's Version): The Halfway Out the Door Chapter</a></li>,\n",
       " <li><a class=\"album_link\" href=\"/albums/Taylor-swift/1989-deluxe\">1989 (Deluxe)</a></li>,\n",
       " <li><a class=\"album_link\" href=\"/albums/Taylor-swift/Fearless-taylors-version-the-i-remember-what-you-said-last-night-chapter\">Fearless (Taylor’s Version): The I Remember What You Said Last Night Chapter</a></li>,\n",
       " <li><a class=\"album_link\" href=\"/albums/Taylor-swift/Folklore-deluxe-version\">folklore (deluxe version)</a></li>,\n",
       " <li><a class=\"album_link\" href=\"/albums/Taylor-swift/20042005-demo-cd\">2004–2005 Demo CD</a></li>,\n",
       " <li><a class=\"album_link\" href=\"/albums/Taylor-swift/Teardrops-on-my-guitar-ep\">Teardrops On My Guitar - EP</a></li>,\n",
       " <li><a class=\"album_link\" href=\"/albums/Taylor-swift/Evermore-digitally-autographed-fan-edition\">evermore (digitally autographed fan edition)</a></li>,\n",
       " <li><a class=\"album_link\" href=\"/albums/Taylor-swift/Evermore-deluxe-version\">evermore (deluxe version)</a></li>,\n",
       " <li><a class=\"album_link\" href=\"/albums/Taylor-swift/Fearless-taylor-s-version\">Fearless (Taylor's Version)</a></li>,\n",
       " <li><a class=\"album_link\" href=\"/albums/Taylor-swift/Vol-2-demo-cd\">Vol. 2 Demo CD</a></li>,\n",
       " <li><a class=\"album_link\" href=\"/albums/Taylor-swift/Unreleased-songs\">Unreleased Songs</a></li>,\n",
       " <li><a class=\"album_link\" href=\"/albums/Taylor-swift/Red-taylors-version\">Red (Taylor’s Version)</a></li>]"
      ]
     },
     "execution_count": 262,
     "metadata": {},
     "output_type": "execute_result"
    }
   ],
   "source": [
    "album_lst = albums.find('ul', attrs={'class': 'album_list primary_list'}).find_all('li')\n",
    "album_lst"
   ]
  },
  {
   "cell_type": "code",
   "execution_count": 278,
   "metadata": {},
   "outputs": [],
   "source": [
    "song_dict = {}\n",
    "for i in album_lst:\n",
    "    if i.text == 'Unreleased Songs':\n",
    "        continue\n",
    "    link = i.find('a')['href']\n",
    "    new_url = url.format(link)\n",
    "    response = requests.get(new_url)\n",
    "    soup = bs4.BeautifulSoup(response.content)\n",
    "    if soup.find('strong'):\n",
    "        continue\n",
    "    tracklist = soup.find_all('div', attrs={'class': 'column_layout-column_span column_layout-column_span--primary'})[1]\n",
    "    for j in tracklist.find_all('div', attrs={'class': 'chart_row-content'}):\n",
    "        link = j.find('a')['href']\n",
    "        song_link = requests.get(link)\n",
    "        song = bs4.BeautifulSoup(song_link.content)\n",
    "        if song.title.text == 'Application Error':\n",
    "            continue\n",
    "        song_page = song.find('div', attrs={'id': 'application'})\n",
    "        title = song.find('h1').text.replace('\\u200b', '')\n",
    "        singer = song.find_all('a')[8].text.lower()\n",
    "        if singer != artist:\n",
    "            continue\n",
    "        if song_page == None:\n",
    "            continue\n",
    "        else:\n",
    "            lyr = song_page.find_all('div')[39].text\n",
    "            if lyr[:20] == 'How to Format Lyrics':\n",
    "                lyr = song_page.find_all('div')[40].text\n",
    "            lyr = re.sub(r'([a-z])([A-Z])', r'\\1 xxxx \\2', lyr)\n",
    "            lyr = re.sub(r'\\[[\\w :&-]*\\]', ' ', lyr)\n",
    "            lyr = re.sub(r'Embed[\\w .]*', '', lyr)\n",
    "            lyr = lyr.replace('\\u205f', ' ')\n",
    "            lyr = lyr.replace('\\u2005', ' ')\n",
    "            lyr = re.sub(r'(\\)|\\?)(\\'|\\w)', r'\\1 \\2', lyr)\n",
    "            lyr = re.sub(r'([a-zA-z])([0-9]+)', r'\\1', lyr)\n",
    "            lyr = lyr.replace('TAOO', 'TA13OO')\n",
    "            lyr = lyr.strip()\n",
    "        if title in song_dict:\n",
    "            continue\n",
    "        else:\n",
    "            song_dict[title] = lyr"
   ]
  },
  {
   "cell_type": "code",
   "execution_count": null,
   "metadata": {},
   "outputs": [],
   "source": []
  },
  {
   "cell_type": "code",
   "execution_count": 281,
   "metadata": {},
   "outputs": [],
   "source": [
    "lyrics = list(song_dict.values())"
   ]
  },
  {
   "cell_type": "code",
   "execution_count": 282,
   "metadata": {},
   "outputs": [],
   "source": [
    "tfidf_transformer = TfidfTransformer(smooth_idf=True, use_idf=True)\n",
    "tfidf_transformer.fit(word_count)\n",
    "df_idf = pd.DataFrame(tfidf_transformer.idf_, index=cv.get_feature_names(), columns=['idf_weights'])"
   ]
  },
  {
   "cell_type": "code",
   "execution_count": 283,
   "metadata": {},
   "outputs": [],
   "source": [
    "count_vector = cv.transform(lyrics)\n",
    "tf_idf_vector = tfidf_transformer.transform(count_vector)"
   ]
  },
  {
   "cell_type": "code",
   "execution_count": 284,
   "metadata": {},
   "outputs": [
    {
     "data": {
      "text/html": [
       "<div>\n",
       "<style scoped>\n",
       "    .dataframe tbody tr th:only-of-type {\n",
       "        vertical-align: middle;\n",
       "    }\n",
       "\n",
       "    .dataframe tbody tr th {\n",
       "        vertical-align: top;\n",
       "    }\n",
       "\n",
       "    .dataframe thead th {\n",
       "        text-align: right;\n",
       "    }\n",
       "</style>\n",
       "<table border=\"1\" class=\"dataframe\">\n",
       "  <thead>\n",
       "    <tr style=\"text-align: right;\">\n",
       "      <th></th>\n",
       "      <th>tfidf</th>\n",
       "    </tr>\n",
       "  </thead>\n",
       "  <tbody>\n",
       "    <tr>\n",
       "      <th>my</th>\n",
       "      <td>0.481628</td>\n",
       "    </tr>\n",
       "    <tr>\n",
       "      <th>you</th>\n",
       "      <td>0.337579</td>\n",
       "    </tr>\n",
       "    <tr>\n",
       "      <th>forever</th>\n",
       "      <td>0.229584</td>\n",
       "    </tr>\n",
       "    <tr>\n",
       "      <th>xxxx</th>\n",
       "      <td>0.227637</td>\n",
       "    </tr>\n",
       "    <tr>\n",
       "      <th>take</th>\n",
       "      <td>0.211677</td>\n",
       "    </tr>\n",
       "    <tr>\n",
       "      <th>re</th>\n",
       "      <td>0.194225</td>\n",
       "    </tr>\n",
       "    <tr>\n",
       "      <th>go</th>\n",
       "      <td>0.187805</td>\n",
       "    </tr>\n",
       "    <tr>\n",
       "      <th>we</th>\n",
       "      <td>0.187299</td>\n",
       "    </tr>\n",
       "    <tr>\n",
       "      <th>ever</th>\n",
       "      <td>0.184480</td>\n",
       "    </tr>\n",
       "    <tr>\n",
       "      <th>and</th>\n",
       "      <td>0.167204</td>\n",
       "    </tr>\n",
       "    <tr>\n",
       "      <th>can</th>\n",
       "      <td>0.160542</td>\n",
       "    </tr>\n",
       "    <tr>\n",
       "      <th>me</th>\n",
       "      <td>0.146641</td>\n",
       "    </tr>\n",
       "    <tr>\n",
       "      <th>ah</th>\n",
       "      <td>0.144132</td>\n",
       "    </tr>\n",
       "    <tr>\n",
       "      <th>our</th>\n",
       "      <td>0.144132</td>\n",
       "    </tr>\n",
       "    <tr>\n",
       "      <th>this</th>\n",
       "      <td>0.140971</td>\n",
       "    </tr>\n",
       "    <tr>\n",
       "      <th>close</th>\n",
       "      <td>0.137750</td>\n",
       "    </tr>\n",
       "    <tr>\n",
       "      <th>home</th>\n",
       "      <td>0.137750</td>\n",
       "    </tr>\n",
       "    <tr>\n",
       "      <th>always</th>\n",
       "      <td>0.127681</td>\n",
       "    </tr>\n",
       "    <tr>\n",
       "      <th>be</th>\n",
       "      <td>0.117476</td>\n",
       "    </tr>\n",
       "    <tr>\n",
       "      <th>save</th>\n",
       "      <td>0.117469</td>\n",
       "    </tr>\n",
       "  </tbody>\n",
       "</table>\n",
       "</div>"
      ],
      "text/plain": [
       "            tfidf\n",
       "my       0.481628\n",
       "you      0.337579\n",
       "forever  0.229584\n",
       "xxxx     0.227637\n",
       "take     0.211677\n",
       "re       0.194225\n",
       "go       0.187805\n",
       "we       0.187299\n",
       "ever     0.184480\n",
       "and      0.167204\n",
       "can      0.160542\n",
       "me       0.146641\n",
       "ah       0.144132\n",
       "our      0.144132\n",
       "this     0.140971\n",
       "close    0.137750\n",
       "home     0.137750\n",
       "always   0.127681\n",
       "be       0.117476\n",
       "save     0.117469"
      ]
     },
     "execution_count": 284,
     "metadata": {},
     "output_type": "execute_result"
    }
   ],
   "source": [
    "feature_names = cv.get_feature_names()\n",
    "first_document_vector = tf_idf_vector[90]\n",
    "df = pd.DataFrame(first_document_vector.T.todense(), index=feature_names, columns=['tfidf'])\n",
    "df.sort_values(by=['tfidf'], ascending=False).head(20)"
   ]
  },
  {
   "cell_type": "code",
   "execution_count": 285,
   "metadata": {},
   "outputs": [],
   "source": [
    "songs = ' xxxx '.join(lyrics)"
   ]
  },
  {
   "cell_type": "code",
   "execution_count": 286,
   "metadata": {},
   "outputs": [],
   "source": [
    "tokens = proj.tokenize(songs)"
   ]
  },
  {
   "cell_type": "code",
   "execution_count": 287,
   "metadata": {},
   "outputs": [],
   "source": [
    "unigram = proj.NGramLM(3, tuple(tokens))"
   ]
  },
  {
   "cell_type": "code",
   "execution_count": 302,
   "metadata": {},
   "outputs": [],
   "source": [
    "samp = unigram.sample(500)"
   ]
  },
  {
   "cell_type": "code",
   "execution_count": 303,
   "metadata": {},
   "outputs": [],
   "source": [
    "samp = samp.replace(' \\' ', '\\'')\n",
    "samp = samp.replace('xxxx', '\\n')\n",
    "samp = re.sub(' , ', ', ', samp)\n",
    "samp = samp.replace(' . ', '. ')\n",
    "samp = samp.replace(' ( ', ' (')\n",
    "samp = samp.replace(' )', ') ')\n",
    "samp = samp.replace(' ? ', '? ')"
   ]
  },
  {
   "cell_type": "code",
   "execution_count": 304,
   "metadata": {},
   "outputs": [],
   "source": [
    "samp = samp.strip('\\x02 ')"
   ]
  },
  {
   "cell_type": "code",
   "execution_count": 305,
   "metadata": {},
   "outputs": [],
   "source": [
    "lines = samp.split('\\n')\n",
    "clean_samp = []\n",
    "for i in lines:\n",
    "    i = i.strip()\n",
    "    i = i[0].upper() + i[1:]\n",
    "    clean_samp.append(i)\n",
    "samp = '\\n'.join(clean_samp)"
   ]
  },
  {
   "cell_type": "code",
   "execution_count": 306,
   "metadata": {},
   "outputs": [
    {
     "name": "stdout",
     "output_type": "stream",
     "text": [
      "Smokey black nights I'm the onе who understands you\n",
      "Even though we boarded them up to you\n",
      "With whatever talent money buys\n",
      "So here's new, the less I know you better, know you better, that's the reason for the longest time\n",
      "Are we in the lobby\n",
      "Candle wax and Polaroids on the floor\n",
      "Wearing your clothes\n",
      "All I can feel it now? You should've been\n",
      "There were sirens in the palm of your body\n",
      "Laughin'at my feet\n",
      "You almost ran the red'cause of me as we pass by\n",
      "Tell them how the leaves\n",
      "When people say, the second day\n",
      "When I met you\n",
      "Just wanna be everything you looked at me\n",
      "So far above feeling anything at all\n",
      "And then you called, showed your hand through plastic now \" Ooh, ooh (Ah - uh, myself\n",
      "A song that [? ] We can't you think Tim Mc\n",
      "Graw so I let them see me clearly\n",
      "And bring on all my flaws, paranoia, and you talk real slow'til her claws come out\n",
      "I promise that you're the only one who understands you\n",
      "Swear to be\n",
      "Fifteen You sit in class next to her on the street\n",
      "Flashback to the time of my head\n",
      "Burning, it was just about to play\n",
      "Of your magnetic field being a song it was me\n",
      "I, wish I, I see it all broke down\n",
      "Even now just looking at me, hey)  (Ah)  I don't you ever here at all\n",
      "And in a million little times And you think I'm looking through your eyes on you\n",
      "Hand under my sweatshirt\n",
      "Baby, I want, yeah\n",
      "Oh, oh)  Did you think nineteen's getting dark and it rains in your eye\n",
      "And I couldn't nothing but missing you\n",
      "When you look a little, a few weeks ago\n",
      "Is it killing you like a jet stream\n",
      "High heels on cobblestones\n",
      "When I was dyin'in a sunlit room\n",
      "I didn't explain this\n",
      "Daring you to dance\n",
      "In my defense, I did to you all this time\n",
      "And I don't know why I do recall now the smell of the woods yet? Are we in the light\n",
      "Oh - oh, yeah - yeah\n",
      "Oh, oh Didn't like that? She wears high heels, love made me crazy, I, I got home'fore you let it go\n",
      "As far as I can't pretend it\n"
     ]
    }
   ],
   "source": [
    "print(samp)"
   ]
  },
  {
   "cell_type": "code",
   "execution_count": null,
   "metadata": {},
   "outputs": [],
   "source": []
  }
 ],
 "metadata": {
  "kernelspec": {
   "display_name": "Python 3",
   "language": "python",
   "name": "python3"
  },
  "language_info": {
   "codemirror_mode": {
    "name": "ipython",
    "version": 3
   },
   "file_extension": ".py",
   "mimetype": "text/x-python",
   "name": "python",
   "nbconvert_exporter": "python",
   "pygments_lexer": "ipython3",
   "version": "3.8.5"
  }
 },
 "nbformat": 4,
 "nbformat_minor": 4
}
